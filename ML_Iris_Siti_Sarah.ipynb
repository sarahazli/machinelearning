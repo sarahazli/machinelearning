{
  "nbformat": 4,
  "nbformat_minor": 0,
  "metadata": {
    "colab": {
      "name": "ML Iris-Siti Sarah.ipynb",
      "version": "0.3.2",
      "provenance": [],
      "include_colab_link": true
    },
    "kernelspec": {
      "name": "python3",
      "display_name": "Python 3"
    }
  },
  "cells": [
    {
      "cell_type": "markdown",
      "metadata": {
        "id": "view-in-github",
        "colab_type": "text"
      },
      "source": [
        "<a href=\"https://colab.research.google.com/github/sarahazli/machinelearning/blob/master/ML_Iris_Siti_Sarah.ipynb\" target=\"_parent\"><img src=\"https://colab.research.google.com/assets/colab-badge.svg\" alt=\"Open In Colab\"/></a>"
      ]
    },
    {
      "metadata": {
        "id": "pjRQXEOQ0OFn",
        "colab_type": "code",
        "colab": {
          "base_uri": "https://localhost:8080/",
          "height": 887
        },
        "outputId": "bf5d4014-461b-43c4-b482-c6e8c97c080f"
      },
      "cell_type": "code",
      "source": [
        "import keras\n",
        "from keras.models import Sequential\n",
        "from keras.layers import Dense, Dropout, Activation\n",
        "from keras.optimizers import SGD\n",
        "from keras.utils import to_categorical\n",
        "from sklearn.model_selection import train_test_split\n",
        "from sklearn.datasets import load_iris\n",
        "data = load_iris()\n",
        "y = to_categorical(data['target'])\n",
        "x = data ['data']\n",
        "x_train, x_test,y_train,y_test = train_test_split(x,y,test_size = 0.33, random_state = 42)\n",
        "\n",
        "model = Sequential()\n",
        "model.add(Dense(64, activation='relu', input_dim=4))\n",
        "model.add(Dropout(0.5))\n",
        "model.add(Dense(64, activation='relu'))\n",
        "model.add(Dropout(0.5))\n",
        "model.add(Dense(3, activation='softmax'))\n",
        "\n",
        "sgd = SGD(lr=0.01, decay=1e-6, momentum=0.9, nesterov=True)\n",
        "model.compile(loss='categorical_crossentropy',\n",
        "              optimizer=sgd,\n",
        "              metrics=['accuracy'])\n",
        "\n",
        "model.fit(x_train, y_train,\n",
        "          epochs=20,batch_size=128)\n",
        "score = model.evaluate(x_test, y_test, batch_size=128)\n"
      ],
      "execution_count": 2,
      "outputs": [
        {
          "output_type": "stream",
          "text": [
            "WARNING:tensorflow:From /usr/local/lib/python3.6/dist-packages/tensorflow/python/framework/op_def_library.py:263: colocate_with (from tensorflow.python.framework.ops) is deprecated and will be removed in a future version.\n",
            "Instructions for updating:\n",
            "Colocations handled automatically by placer.\n",
            "WARNING:tensorflow:From /usr/local/lib/python3.6/dist-packages/keras/backend/tensorflow_backend.py:3445: calling dropout (from tensorflow.python.ops.nn_ops) with keep_prob is deprecated and will be removed in a future version.\n",
            "Instructions for updating:\n",
            "Please use `rate` instead of `keep_prob`. Rate should be set to `rate = 1 - keep_prob`.\n",
            "WARNING:tensorflow:From /usr/local/lib/python3.6/dist-packages/tensorflow/python/ops/math_ops.py:3066: to_int32 (from tensorflow.python.ops.math_ops) is deprecated and will be removed in a future version.\n",
            "Instructions for updating:\n",
            "Use tf.cast instead.\n",
            "Epoch 1/20\n",
            "100/100 [==============================] - 0s 2ms/step - loss: 1.6469 - acc: 0.3400\n",
            "Epoch 2/20\n",
            "100/100 [==============================] - 0s 35us/step - loss: 1.5429 - acc: 0.3200\n",
            "Epoch 3/20\n",
            "100/100 [==============================] - 0s 54us/step - loss: 1.3555 - acc: 0.3300\n",
            "Epoch 4/20\n",
            "100/100 [==============================] - 0s 21us/step - loss: 1.5095 - acc: 0.3400\n",
            "Epoch 5/20\n",
            "100/100 [==============================] - 0s 22us/step - loss: 1.3225 - acc: 0.2600\n",
            "Epoch 6/20\n",
            "100/100 [==============================] - 0s 35us/step - loss: 1.2834 - acc: 0.3400\n",
            "Epoch 7/20\n",
            "100/100 [==============================] - 0s 39us/step - loss: 1.2152 - acc: 0.3700\n",
            "Epoch 8/20\n",
            "100/100 [==============================] - 0s 48us/step - loss: 1.2264 - acc: 0.3000\n",
            "Epoch 9/20\n",
            "100/100 [==============================] - 0s 51us/step - loss: 1.0934 - acc: 0.3700\n",
            "Epoch 10/20\n",
            "100/100 [==============================] - 0s 34us/step - loss: 1.0671 - acc: 0.4000\n",
            "Epoch 11/20\n",
            "100/100 [==============================] - 0s 28us/step - loss: 0.9851 - acc: 0.4500\n",
            "Epoch 12/20\n",
            "100/100 [==============================] - 0s 23us/step - loss: 0.9948 - acc: 0.5100\n",
            "Epoch 13/20\n",
            "100/100 [==============================] - 0s 20us/step - loss: 1.0001 - acc: 0.4500\n",
            "Epoch 14/20\n",
            "100/100 [==============================] - 0s 46us/step - loss: 0.9234 - acc: 0.5700\n",
            "Epoch 15/20\n",
            "100/100 [==============================] - 0s 32us/step - loss: 0.9511 - acc: 0.5200\n",
            "Epoch 16/20\n",
            "100/100 [==============================] - 0s 23us/step - loss: 0.8958 - acc: 0.5400\n",
            "Epoch 17/20\n",
            "100/100 [==============================] - 0s 42us/step - loss: 0.9276 - acc: 0.5600\n",
            "Epoch 18/20\n",
            "100/100 [==============================] - 0s 40us/step - loss: 0.8501 - acc: 0.6100\n",
            "Epoch 19/20\n",
            "100/100 [==============================] - 0s 25us/step - loss: 0.8383 - acc: 0.6700\n",
            "Epoch 20/20\n",
            "100/100 [==============================] - 0s 37us/step - loss: 0.8425 - acc: 0.6000\n",
            "50/50 [==============================] - 0s 737us/step\n"
          ],
          "name": "stdout"
        }
      ]
    }
  ]
}