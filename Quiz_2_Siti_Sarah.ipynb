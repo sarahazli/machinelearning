{
  "nbformat": 4,
  "nbformat_minor": 0,
  "metadata": {
    "colab": {
      "name": "Quiz 2 - Siti Sarah.ipynb",
      "version": "0.3.2",
      "provenance": [],
      "include_colab_link": true
    },
    "kernelspec": {
      "name": "python3",
      "display_name": "Python 3"
    }
  },
  "cells": [
    {
      "cell_type": "markdown",
      "metadata": {
        "id": "view-in-github",
        "colab_type": "text"
      },
      "source": [
        "<a href=\"https://colab.research.google.com/github/sarahazli/machinelearning/blob/master/Quiz_2_Siti_Sarah.ipynb\" target=\"_parent\"><img src=\"https://colab.research.google.com/assets/colab-badge.svg\" alt=\"Open In Colab\"/></a>"
      ]
    },
    {
      "metadata": {
        "id": "WGxNuVPXYTRf",
        "colab_type": "code",
        "outputId": "c7e74fd8-7e33-472e-c2ff-46f21ac32573",
        "colab": {
          "base_uri": "https://localhost:8080/",
          "height": 714
        }
      },
      "cell_type": "code",
      "source": [
        "import keras\n",
        "from keras.models import Sequential\n",
        "from keras.layers import Dense, Dropout, Activation\n",
        "from keras.optimizers import SGD\n",
        "from keras.utils import to_categorical\n",
        "from sklearn.model_selection import train_test_split\n",
        "import pandas as pd\n",
        "import warnings \n",
        "warnings.filterwarnings('ignore')\n",
        "warnings.filterwarnings('ignore', category=DeprecationWarning)\n",
        "\n",
        "data = pd.read_csv('heart.csv')\n",
        "\n",
        "y = data['target']\n",
        "x= data.drop('target', axis=1)\n",
        "\n",
        "x_train, x_test,y_train,y_test = train_test_split(x,y,test_size = 0.30, random_state = 42)\n",
        "\n",
        "##print(x_train.head())\n",
        "##print(x_train.shape)\n",
        "\n",
        "##print(\"\\nX_test:\\n\")\n",
        "##print(x_test.head())\n",
        "##print(x_test.shape)\n",
        "\n",
        "model = Sequential() \n",
        "model.add(Dense(50, input_shape=(13,))) \n",
        "model.add(Activation(\"relu\")) \n",
        "model.add(Dense(50, activation='softmax')) \n",
        "model.add(Dense(1, activation='linear')) \n",
        "model.compile(optimizer='sgd', loss='mse', metrics=[\"accuracy\"])\n",
        "\n",
        "model.fit(x_train, y_train,\n",
        "          epochs=20,batch_size=128)\n",
        "score = model.evaluate(x_test, y_test, batch_size=128)"
      ],
      "execution_count": 37,
      "outputs": [
        {
          "output_type": "stream",
          "text": [
            "Epoch 1/20\n",
            "212/212 [==============================] - 1s 4ms/step - loss: 0.6961 - acc: 0.4575\n",
            "Epoch 2/20\n",
            "212/212 [==============================] - 0s 27us/step - loss: 0.6097 - acc: 0.4575\n",
            "Epoch 3/20\n",
            "212/212 [==============================] - 0s 23us/step - loss: 0.5546 - acc: 0.4575\n",
            "Epoch 4/20\n",
            "212/212 [==============================] - 0s 22us/step - loss: 0.5083 - acc: 0.4575\n",
            "Epoch 5/20\n",
            "212/212 [==============================] - 0s 21us/step - loss: 0.4690 - acc: 0.4575\n",
            "Epoch 6/20\n",
            "212/212 [==============================] - 0s 22us/step - loss: 0.4357 - acc: 0.4575\n",
            "Epoch 7/20\n",
            "212/212 [==============================] - 0s 20us/step - loss: 0.4073 - acc: 0.4575\n",
            "Epoch 8/20\n",
            "212/212 [==============================] - 0s 18us/step - loss: 0.3830 - acc: 0.4575\n",
            "Epoch 9/20\n",
            "212/212 [==============================] - 0s 28us/step - loss: 0.3625 - acc: 0.4575\n",
            "Epoch 10/20\n",
            "212/212 [==============================] - 0s 32us/step - loss: 0.3449 - acc: 0.4575\n",
            "Epoch 11/20\n",
            "212/212 [==============================] - 0s 31us/step - loss: 0.3311 - acc: 0.4575\n",
            "Epoch 12/20\n",
            "212/212 [==============================] - 0s 34us/step - loss: 0.3174 - acc: 0.4575\n",
            "Epoch 13/20\n",
            "212/212 [==============================] - 0s 28us/step - loss: 0.3074 - acc: 0.4575\n",
            "Epoch 14/20\n",
            "212/212 [==============================] - 0s 30us/step - loss: 0.2990 - acc: 0.4575\n",
            "Epoch 15/20\n",
            "212/212 [==============================] - 0s 28us/step - loss: 0.2914 - acc: 0.4575\n",
            "Epoch 16/20\n",
            "212/212 [==============================] - 0s 40us/step - loss: 0.2846 - acc: 0.4575\n",
            "Epoch 17/20\n",
            "212/212 [==============================] - 0s 37us/step - loss: 0.2787 - acc: 0.4575\n",
            "Epoch 18/20\n",
            "212/212 [==============================] - 0s 49us/step - loss: 0.2728 - acc: 0.4575\n",
            "Epoch 19/20\n",
            "212/212 [==============================] - 0s 41us/step - loss: 0.2649 - acc: 0.4575\n",
            "Epoch 20/20\n",
            "212/212 [==============================] - 0s 29us/step - loss: 0.2707 - acc: 0.4575\n",
            "91/91 [==============================] - 0s 3ms/step\n"
          ],
          "name": "stdout"
        }
      ]
    },
    {
      "metadata": {
        "id": "KYpfxqifx5Ps",
        "colab_type": "text"
      },
      "cell_type": "markdown",
      "source": [
        "**What type of problem are we trying to solve here? Classification or regression?**\n",
        "Classification"
      ]
    },
    {
      "metadata": {
        "id": "MAmI6-TgyARY",
        "colab_type": "text"
      },
      "cell_type": "markdown",
      "source": [
        "**What is underfitting and overfitting?**\n",
        "Underfitting is when your output of prediction or accuracy is too low due to not enough of training also result of an excessively simple model.\n",
        "\n",
        "Overfitting is when your data achieve too high accuracy/abnormal accuracy which occurs if the model or algorithm shows low bias but high variance"
      ]
    },
    {
      "metadata": {
        "id": "1AmiC7AoyEwc",
        "colab_type": "text"
      },
      "cell_type": "markdown",
      "source": [
        "**Explain how you can reduce the overfitting of the model.**\n",
        "\n",
        "Reduce number of predictors which are not relevant."
      ]
    }
  ]
}