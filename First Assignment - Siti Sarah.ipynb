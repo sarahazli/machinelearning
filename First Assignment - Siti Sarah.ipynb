{
 "cells": [
  {
   "cell_type": "markdown",
   "metadata": {},
   "source": [
    "# Siti Sarah Azli Zuhairey"
   ]
  },
  {
   "cell_type": "markdown",
   "metadata": {},
   "source": [
    "1. Machine Learning definition\n",
    "\n",
    "- Machine learning is a method of data analysis that automates analytical model building. It is a branch of artificial intelligence based on the idea that systems can learn from data, identify patterns and make decisions with minimal human intervention.(SAS Institute, 2019)\n",
    "\n",
    "Reference: https://www.sas.com/en_my/insights/analytics/machine-learning.html\n",
    "\n",
    "- Machine learning is a form of AI that enables a system to learn from data rather than through explicit programming. (Machine Learning For Dummies, 2018)\n",
    "\n",
    "- Machine learning is the study of computational methods for improving performance by mechanizing the acquisition of knowledge from experience. (\tPat Langley & Herbert A. Simon, 1995)\n",
    "\n",
    "Reference: Langley, P., & Simon, H. A. (1995). Applications of machine learning and rule induction. Communications of the ACM, 38(11), 54-64."
   ]
  },
  {
   "cell_type": "markdown",
   "metadata": {},
   "source": [
    "2. Machine Learning & Its Application\n",
    "\n",
    "- Machine learning applications in cancer prognosis and prediction\n",
    "Depicts the distribution in published papers using ML techniques to predict (i) cancer susceptibility, (ii) recurrence and (iii) survival. \n",
    "\n",
    "Reference: Kourou, K., Exarchos, T. P., Exarchos, K. P., Karamouzis, M. V., & Fotiadis, D. I. (2015). Machine learning applications in cancer prognosis and prediction. Computational and structural biotechnology journal, 13, 8-17.\n",
    "\n",
    "- Machine Learning for predicting or forecasting business failures\n",
    "Bankruptcy prediction and credit scoring are the two major research problems in the accounting and finance domain. \n",
    "\n",
    "Reference: Lin, W. Y., Hu, Y. H., & Tsai, C. F. (2012). Machine learning in financial crisis prediction: a survey. IEEE Transactions on Systems, Man, and Cybernetics, Part C (Applications and Reviews), 42(4), 421-436.\n",
    "\n",
    "- Forecasting tourist arrivals with machine learning and internet search index\n",
    "Forecast tourist behaviors, including where and how tourists travel\n",
    "\n",
    "Reference: Sun, S., Wei, Y., Tsui, K. L., & Wang, S. (2019). Forecasting tourist arrivals with machine learning and internet search index. Tourism Management, 70, 1-10.\n",
    "\n",
    "- Global stock market investment strategies based on financial network indicators using machine learning techniques\n",
    "SVM used for the directional predictions showed the best performances.\n",
    "\n",
    "Reference: Lee, T. K., Cho, J. H., Kwon, D. S., & Sohn, S. Y. (2019). Global stock market investment strategies based on financial network indicators using machine learning techniques. Expert Systems with Applications, 117, 228-242.\n",
    "\n",
    "- Corrosion rate prediction\n",
    "Corrosion rate prediction of 3C steel under different seawater environment by using support vector regression\n",
    "\n",
    "Reference: Wen, Y. F., Cai, C. Z., Liu, X. H., Pei, J. F., Zhu, X. J., & Xiao, T. T. (2009). Corrosion rate prediction of 3C steel under different seawater environment by using support vector regression. Corrosion Science, 51(2), 349-355.\n",
    "\n"
   ]
  }
 ],
 "metadata": {
  "kernelspec": {
   "display_name": "Python 3",
   "language": "python",
   "name": "python3"
  },
  "language_info": {
   "codemirror_mode": {
    "name": "ipython",
    "version": 3
   },
   "file_extension": ".py",
   "mimetype": "text/x-python",
   "name": "python",
   "nbconvert_exporter": "python",
   "pygments_lexer": "ipython3",
   "version": "3.6.7"
  }
 },
 "nbformat": 4,
 "nbformat_minor": 2
}
